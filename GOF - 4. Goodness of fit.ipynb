{
 "cells": [
  {
   "cell_type": "code",
   "execution_count": 1,
   "metadata": {},
   "outputs": [],
   "source": [
    "import scipy.stats as st\n",
    "import pylab\n",
    "import pandas as pd\n",
    "import numpy as np\n",
    "import matplotlib.pyplot as plt\n",
    "from fitter import Fitter, get_common_distributions, get_distributions\n",
    "from scipy.stats import entropy as kl_div, kstest"
   ]
  },
  {
   "cell_type": "markdown",
   "metadata": {},
   "source": [
    "# 4. Fitting a distribution with Fitter"
   ]
  },
  {
   "cell_type": "markdown",
   "metadata": {},
   "source": [
    "Fitter is a python library that utilizes the Scipy library's distribution to graph and calculate metrics for goodness of fit.\n",
    "\n",
    "For the source code, please refer to the [github repository](https://github.com/cokelaer/fitter)"
   ]
  },
  {
   "cell_type": "code",
   "execution_count": 2,
   "metadata": {},
   "outputs": [],
   "source": [
    "df = pd.read_csv('data/sample_claims.csv')"
   ]
  },
  {
   "cell_type": "code",
   "execution_count": 3,
   "metadata": {},
   "outputs": [],
   "source": [
    "# f = Fitter(df)\n",
    "# f.fit()\n",
    "# f.summary()"
   ]
  },
  {
   "cell_type": "markdown",
   "metadata": {},
   "source": [
    "We can use the Fitter API to see how well an exponential distribution fits the observed data.\n",
    "\n",
    "All calculations below can be replicated and validated using the Fitter source code provided in the github link above. The Fitter package abstracts all the logic away, but it  is good to understand the underlying concepts and implementation of the various tests using the exponential distribution as an example.\n",
    "\n",
    "Note that Fitter comes with some evaluation metrics for goodness of fit which will be covered later. These include:\n",
    "\n",
    "- sum of squared errors\n",
    "- information criterion\n",
    "- kullback-leibler information\n",
    "- kolmogorov-smirnov test\n",
    "- chi square test (not included)"
   ]
  },
  {
   "cell_type": "code",
   "execution_count": 4,
   "metadata": {},
   "outputs": [
    {
     "name": "stdout",
     "output_type": "stream",
     "text": [
      "scipy.stats.expon\n"
     ]
    },
    {
     "data": {
      "text/html": [
       "<div>\n",
       "<style scoped>\n",
       "    .dataframe tbody tr th:only-of-type {\n",
       "        vertical-align: middle;\n",
       "    }\n",
       "\n",
       "    .dataframe tbody tr th {\n",
       "        vertical-align: top;\n",
       "    }\n",
       "\n",
       "    .dataframe thead th {\n",
       "        text-align: right;\n",
       "    }\n",
       "</style>\n",
       "<table border=\"1\" class=\"dataframe\">\n",
       "  <thead>\n",
       "    <tr style=\"text-align: right;\">\n",
       "      <th></th>\n",
       "      <th>sumsquare_error</th>\n",
       "      <th>aic</th>\n",
       "      <th>bic</th>\n",
       "      <th>kl_div</th>\n",
       "      <th>ks_statistic</th>\n",
       "      <th>ks_pvalue</th>\n",
       "    </tr>\n",
       "  </thead>\n",
       "  <tbody>\n",
       "    <tr>\n",
       "      <th>expon</th>\n",
       "      <td>8.627424e-08</td>\n",
       "      <td>3575.446841</td>\n",
       "      <td>-1990.559271</td>\n",
       "      <td>inf</td>\n",
       "      <td>0.18499</td>\n",
       "      <td>0.002388</td>\n",
       "    </tr>\n",
       "  </tbody>\n",
       "</table>\n",
       "</div>"
      ],
      "text/plain": [
       "       sumsquare_error          aic          bic  kl_div  ks_statistic  \\\n",
       "expon     8.627424e-08  3575.446841 -1990.559271     inf       0.18499   \n",
       "\n",
       "       ks_pvalue  \n",
       "expon   0.002388  "
      ]
     },
     "execution_count": 4,
     "metadata": {},
     "output_type": "execute_result"
    },
    {
     "data": {
      "image/png": "[encoded data removed]",
      "text/plain": [
       "<Figure size 432x288 with 1 Axes>"
      ]
     },
     "metadata": {
      "needs_background": "light"
     },
     "output_type": "display_data"
    }
   ],
   "source": [
    "exp_fit = Fitter(df, distributions=[\"expon\"])\n",
    "exp_fit.fit()\n",
    "exp_fit.summary()"
   ]
  },
  {
   "cell_type": "markdown",
   "metadata": {},
   "source": [
    "Numpy histogram function returns a tuple of the observed frequencies and the edges of the bin\n",
    "\n",
    "We then adjust the x values to the mid-point of the edges using a list comprehension\n"
   ]
  },
  {
   "cell_type": "code",
   "execution_count": 8,
   "metadata": {},
   "outputs": [],
   "source": [
    "y, x = np.histogram(df, bins=100, density=True)\n",
    "x = [(bin_edge_value + x[i + 1]) / 2.0 for i, bin_edge_value in enumerate(x[0:-1])]"
   ]
  },
  {
   "cell_type": "markdown",
   "metadata": {},
   "source": [
    "Once we've defined our bin values and frequencies, we proceed to fit the data with an exponential distribution using the [Scipy library](https://docs.scipy.org/doc/scipy/reference/generated/scipy.stats.expon.html). The underlying object [rv_continuous.fit](https://docs.scipy.org/doc/scipy/reference/generated/scipy.stats.rv_continuous.fit.html#scipy.stats.rv_continuous.fit) utilizes the maximum likelihood estimate (MLE) algorithm detailed in the previous notebook as a default, but method of moments (MOM) is available as well.\n",
    "\n",
    "The fit method returns a tuple containing general optimized location and scale parameters, which depending on the chosen distribution, can be solved in a system of equations to obtain the distributional parameters."
   ]
  },
  {
   "cell_type": "code",
   "execution_count": 9,
   "metadata": {},
   "outputs": [
    {
     "name": "stdout",
     "output_type": "stream",
     "text": [
      "location parameter: 24.0\n",
      "scale parameter: 2965.8333333333335\n",
      "lambda: 0.00033717336330429894\n"
     ]
    }
   ],
   "source": [
    "params = st.expon.fit(df)\n",
    "\n",
    "fitted_pdf = st.expon.pdf(x, *params)\n",
    "\n",
    "print(f'location parameter: {params[0]}')\n",
    "print(f'scale parameter: {params[-1]}')\n",
    "print(f'lambda: {1 / params[-1]}')"
   ]
  },
  {
   "cell_type": "markdown",
   "metadata": {},
   "source": [
    "If the exponential distribution is parameterized as follows:\n",
    "\n",
    "$ f_{x}(X) = \\lambda e^{-\\lambda x} $\n",
    "\n",
    "Then following from notebook 2, the `scale` parameter would be $ \\dfrac{1}{\\beta} $ and given our choice of fit, we can say that we think the underlying distribution generating the data follows $~Exp(\\lambda = 0.00034)$.\n",
    "\n",
    "If we subscribe to this assumption, we can start to make very powerful inferences about the data as follows below."
   ]
  },
  {
   "cell_type": "code",
   "execution_count": 7,
   "metadata": {},
   "outputs": [
    {
     "name": "stdout",
     "output_type": "stream",
     "text": [
      "probability of observing a claim < $5000 is: 0.81\n",
      "probability of observing a claim < $3000 is: 0.63\n",
      "probability of observing a claim between $3000 and $5000 is: 0.18\n"
     ]
    }
   ],
   "source": [
    "print(f'probability of observing a claim < $5000 is: {np.round(st.expon.cdf(5000, *params), 2)}')\n",
    "print(f'probability of observing a claim < $3000 is: {np.round(st.expon.cdf(3000, *params), 2)}')\n",
    "print(f'probability of observing a claim between $3000 and $5000 is: {np.round(st.expon.cdf(5000, *params) - np.round(st.expon.cdf(3000, *params), 2), 2)}')"
   ]
  },
  {
   "cell_type": "code",
   "execution_count": 8,
   "metadata": {},
   "outputs": [
    {
     "data": {
      "text/plain": [
       "[<matplotlib.lines.Line2D at 0x1ff963c99d0>]"
      ]
     },
     "execution_count": 8,
     "metadata": {},
     "output_type": "execute_result"
    },
    {
     "data": {
      "image/png": "[encoded data removed]",
      "text/plain": [
       "<Figure size 432x288 with 1 Axes>"
      ]
     },
     "metadata": {
      "needs_background": "light"
     },
     "output_type": "display_data"
    }
   ],
   "source": [
    "pylab.hist(df, bins=100, density=True)\n",
    "pylab.plot(x, fitted_pdf)"
   ]
  },
  {
   "cell_type": "markdown",
   "metadata": {},
   "source": [
    "But, how do we know if our assumptions are 'good' or not? This is where goodness of fit testing would come in."
   ]
  },
  {
   "cell_type": "markdown",
   "metadata": {},
   "source": [
    "## Evaluating the goodness of fit\n",
    "\n",
    "While all these tests (excluding chi square) comes out of the box with the Fitter library, it is good to get a conceptual understanding of the logic and how to implement it manually.\n",
    "\n",
    "Note that all these metrics are relative measures and provide information when comparing between different fits/models. Absolute standalone values from these metrics rarely provide enough information to make informed decisions regarding model selection.\n",
    "\n",
    "One common pattern to note is that in many of the tests and formulae, a $ log(\\tilde{L}) $ is usually seen in the calculations. This is because when multiplying small numbers repeatedly, the results tend to get rounded to 0. Thus, a log transformation is applied to allow for additions during algebraic manipulation without compromising the extrema of the distribution functions. "
   ]
  },
  {
   "cell_type": "markdown",
   "metadata": {},
   "source": [
    "### Sum of squared errors\n",
    "\n",
    "Sum of square errors is a measure of quadratic loss, and is a commonly used metric which is also referred to as the L2 loss.\n",
    "\n",
    "$ SSE = \\Sigma (x_{pred} - x_{actual})^2$\n",
    "\n",
    "\n",
    "Note that SSE metric would be impacted materially with outlier values, which would suggest that more attention be put into cleaning up the data before fitting when using this method. Obviously when using SSE, a lower results suggests a better fit."
   ]
  },
  {
   "cell_type": "code",
   "execution_count": 9,
   "metadata": {},
   "outputs": [
    {
     "name": "stdout",
     "output_type": "stream",
     "text": [
      "Sum of squared errors: 8.627423773657961e-08\n"
     ]
    }
   ],
   "source": [
    "sq_error = pylab.sum((fitted_pdf - y) ** 2)\n",
    "\n",
    "print(f'Sum of squared errors: {sq_error}')"
   ]
  },
  {
   "cell_type": "markdown",
   "metadata": {},
   "source": [
    "### Information criterion\n",
    "\n",
    "The `Akaike` and `Bayesian` information criterion metrics (AIC and BIC) aim to help users select from a set of models, and uses the likelihood function as a starting point and adding penalizing terms based on the number of parameters of the model and observations.\n",
    "\n",
    "$ AIC = -2ln(\\tilde{L}) + 2k $\n",
    "\n",
    "$ BIC = -2ln(\\tilde{L}) + kln(N) $\n",
    "\n",
    "Where k is the model degrees of freedom, and N is the number of observations. In both these measures, a lower result represents a better fit. While these measures look similar, the penalization terms results in different motivations behind the selections.\n",
    "\n",
    "Generally, AIC presents the danger that a model overfits the data as more degrees of freedom in the observed model would result in a lousier score. BIC on the other hand presents the danger of underfitting the data given the errors from the likelihood are added to the size of the data. "
   ]
  },
  {
   "cell_type": "code",
   "execution_count": 10,
   "metadata": {},
   "outputs": [
    {
     "name": "stdout",
     "output_type": "stream",
     "text": [
      "AIC: 3575.446841073396\n",
      "BIC: -1990.5592711125862\n"
     ]
    }
   ],
   "source": [
    "logLik = np.sum(st.expon.logpdf(x, *params))\n",
    "k = len(params)\n",
    "n = len(df)\n",
    "aic = 2 * k - 2 * logLik\n",
    "bic = n * np.log(sq_error / n) + k * np.log(n)\n",
    "\n",
    "print(f'AIC: {aic}')\n",
    "print(f'BIC: {bic}')"
   ]
  },
  {
   "cell_type": "markdown",
   "metadata": {},
   "source": [
    "### Kullback Leiblier divergence\n",
    "\n",
    "The KL divergence is a measure that aims to quantify `statistical distance` between 2 probability distributions. Given a random variable X that represents our observations, a starting point to measure difference between 2 distributions p and q would be:\n",
    "\n",
    "$ \\Delta_{x_i}(p, q) = log(p_{\\theta}(x_i)) - log(q_{\\phi}(x_i)) $\n",
    "\n",
    "$ \\Delta_{x_i}(p, q) =  log\\bigg(\\dfrac{p_{\\theta}(x_i)}{q_{\\phi}(x_i)}\\bigg) = log(likelihood ratio) $\n",
    "\n",
    "Now that we have a measure of difference between 2 distributions for a single data point, we need to extend this concept to get the expectation across all data points.\n",
    "\n",
    "$ \\Delta(p, q) =  \\int p_{\\theta}(x_i) log\\bigg(\\dfrac{p_{\\theta}(x_i)}{q_{\\phi}(x_i)}\\bigg) dx $\n",
    "\n",
    "Note that depending on whether p or q is in the denominator, the KL divergence measure would result in a different answer, making it asymmetric. This leads to controversy around actually calling this a distance measure as opposed to a divergence instead.\n",
    "\n",
    "The choice of reference and approximate distributions lead to different results and application of reverse KL (q in the numerator) can be observed in ML models when evaluating cross entropy.\n",
    "\n",
    "For more information please refer to the [Scipy kl_div documentation](https://docs.scipy.org/doc/scipy/reference/generated/scipy.special.kl_div.html)."
   ]
  },
  {
   "cell_type": "code",
   "execution_count": 11,
   "metadata": {},
   "outputs": [
    {
     "name": "stdout",
     "output_type": "stream",
     "text": [
      "kl divergence is: 1.743687567240447\n"
     ]
    }
   ],
   "source": [
    "# Adjust 0 values to a small number to prevent div 0 errors when calculating KL divergence\n",
    "\n",
    "y[y == 0] = 0.0001\n",
    "\n",
    "kullback_leibler = kl_div(fitted_pdf, y)\n",
    "\n",
    "print(f'kl divergence is: {kullback_leibler}')"
   ]
  },
  {
   "cell_type": "markdown",
   "metadata": {},
   "source": [
    "Again, note that a standalone number as above doesn't provide too much context. This must be used in conjunction with other KL divergence figures on different distributions for comparison."
   ]
  },
  {
   "cell_type": "markdown",
   "metadata": {},
   "source": [
    "### Kolmogorov-Smirnov test\n",
    "\n",
    "The KS test is used when wanting to know how well the distribution of the observed data conforms to some theoretical distribution, and uses the cumulative  distribution functions (CDF) as a basis of comparison. The hypotheses of the KS test can be summarized as follows:\n",
    "\n",
    "$ H_0 $ : Two samples drawn from populations with the same distribution\n",
    "\n",
    "$ H_1$ : Two samples drawn from populations with different distributions\n",
    "\n",
    "The test statistic is commonly known as D and can be defined as follows:\n",
    "\n",
    "$ D = sup|F_{S}(X) - F_{T}(X)| $\n",
    "\n",
    "The T represents the theoretical distribution and S is the observed sample. This means that the test statistic represents the greatest distance between the 2 CDFs, and is assumed to follow the Kolmogorov distribution. Depending on the value of D, we can get p-values to assess the probability of observing the max distance between our data's CDF and the theoretical one given the null hypothesis is true.\n",
    "\n",
    "In the example below, we see that D=0.18 and the probability of observing this given the 2 distributions are the same is ~0.2%. At a 95% confidence level, we would reject the null hypothesis that the 2 distributions are the same since 0.2% < 5%."
   ]
  },
  {
   "cell_type": "code",
   "execution_count": 76,
   "metadata": {},
   "outputs": [
    {
     "name": "stdout",
     "output_type": "stream",
     "text": [
      "ks statistic D: 0.18499042546927535\n",
      "probability of observing this value given H0 is true: 0.0023880598948170517\n"
     ]
    },
    {
     "data": {
      "text/plain": [
       "<matplotlib.legend.Legend at 0x1ef34297340>"
      ]
     },
     "execution_count": 76,
     "metadata": {},
     "output_type": "execute_result"
    },
    {
     "data": {
      "image/png": "[encoded data removed]",
      "text/plain": [
       "<Figure size 432x288 with 1 Axes>"
      ]
     },
     "metadata": {
      "needs_background": "light"
     },
     "output_type": "display_data"
    }
   ],
   "source": [
    "# weird issue occurring without converting explicitly to int from the pandas dataframe\n",
    "# to check out scipy ktest source code https://github.com/scipy/scipy/blob/v1.9.1/scipy/stats/_stats_py.py#L7889-L8039\n",
    "\n",
    "_data = np.array([x for x in df['claims']]).astype(int)\n",
    "\n",
    "dist_fitted = st.expon(*params)\n",
    "ks_stat, ks_pval = kstest(_data, dist_fitted.cdf)\n",
    "\n",
    "print(f'ks statistic D: {ks_stat}')\n",
    "print(f'probability of observing this value given H0 is true: {ks_pval}')\n",
    "\n",
    "# Plotting the ks test to visualize\n",
    "\n",
    "data_pdf = y / sum(y)\n",
    "data_cdf = np.cumsum(data_pdf)\n",
    "\n",
    "plt.plot(x, data_cdf, label=\"empirical\")\n",
    "plt.plot(x, dist_fitted.cdf(x), label='exponential')\n",
    "plt.legend()"
   ]
  },
  {
   "cell_type": "code",
   "execution_count": null,
   "metadata": {},
   "outputs": [],
   "source": []
  }
 ],
 "metadata": {
  "kernelspec": {
   "display_name": "Python 3.8.5 ('base')",
   "language": "python",
   "name": "python3"
  },
  "language_info": {
   "codemirror_mode": {
    "name": "ipython",
    "version": 3
   },
   "file_extension": ".py",
   "mimetype": "text/x-python",
   "name": "python",
   "nbconvert_exporter": "python",
   "pygments_lexer": "ipython3",
   "version": "3.8.5"
  },
  "orig_nbformat": 4,
  "vscode": {
   "interpreter": {
    "hash": "7f3e2235ce0c3d3b0e4a04e7f9c82d922b04c8831f13f1d259fbff6721a8fb0e"
   }
  }
 },
 "nbformat": 4,
 "nbformat_minor": 2
}
