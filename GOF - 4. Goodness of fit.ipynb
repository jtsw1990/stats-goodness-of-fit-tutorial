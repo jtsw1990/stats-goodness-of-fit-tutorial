{
 "cells": [
  {
   "cell_type": "code",
   "execution_count": 39,
   "metadata": {},
   "outputs": [],
   "source": [
    "import scipy.stats as st\n",
    "import pylab\n",
    "import pandas as pd\n",
    "import numpy as np\n",
    "import matplotlib.pyplot as plt\n",
    "from fitter import Fitter, get_common_distributions, get_distributions\n",
    "from scipy.stats import entropy as kl_div, kstest"
   ]
  },
  {
   "cell_type": "markdown",
   "metadata": {},
   "source": [
    "# 4. Fitting a distribution with Fitter"
   ]
  },
  {
   "cell_type": "markdown",
   "metadata": {},
   "source": [
    "Fitter is a python library that utilizes the Scipy library's distribution to graph and calculate metrics for goodness of fit.\n",
    "\n",
    "For the source code, please refer to the [github repository](https://github.com/cokelaer/fitter)"
   ]
  },
  {
   "cell_type": "code",
   "execution_count": 10,
   "metadata": {},
   "outputs": [],
   "source": [
    "df = pd.read_csv('data/sample_claims.csv')"
   ]
  },
  {
   "cell_type": "code",
   "execution_count": 19,
   "metadata": {},
   "outputs": [
    {
     "name": "stderr",
     "output_type": "stream",
     "text": [
      "WARNING:root:SKIPPED kstwo distribution (taking more than 30 seconds)\n",
      "c:\\Users\\jtsw1\\anaconda\\anaconda\\lib\\site-packages\\scipy\\stats\\_distn_infrastructure.py:1715: IntegrationWarning: The maximum number of subdivisions (50) has been achieved.\n",
      "  If increasing the limit yields no improvement it is advised to analyze \n",
      "  the integrand in order to determine the difficulties.  If the position of a \n",
      "  local difficulty can be determined (singularity, discontinuity) one will \n",
      "  probably gain from splitting up the interval and calling the integrator \n",
      "  on the subranges.  Perhaps a special-purpose integrator should be used.\n",
      "  return integrate.quad(self._mom_integ1, 0, 1, args=(m,)+args)[0]\n",
      "c:\\Users\\jtsw1\\anaconda\\anaconda\\lib\\site-packages\\scipy\\stats\\_distn_infrastructure.py:1715: IntegrationWarning: The integral is probably divergent, or slowly convergent.\n",
      "  return integrate.quad(self._mom_integ1, 0, 1, args=(m,)+args)[0]\n",
      "WARNING:root:SKIPPED genexpon distribution (taking more than 30 seconds)\n",
      "WARNING:root:SKIPPED kappa4 distribution (taking more than 30 seconds)\n",
      "WARNING:root:SKIPPED levy_stable distribution (taking more than 30 seconds)\n",
      "WARNING:root:SKIPPED rv_continuous distribution (taking more than 30 seconds)\n",
      "WARNING:root:SKIPPED rv_histogram distribution (taking more than 30 seconds)\n",
      "c:\\Users\\jtsw1\\anaconda\\anaconda\\lib\\site-packages\\scipy\\stats\\_distn_infrastructure.py:1715: IntegrationWarning: The algorithm does not converge.  Roundoff error is detected\n",
      "  in the extrapolation table.  It is assumed that the requested tolerance\n",
      "  cannot be achieved, and that the returned result (if full_output = 1) is \n",
      "  the best which can be obtained.\n",
      "  return integrate.quad(self._mom_integ1, 0, 1, args=(m,)+args)[0]\n",
      "WARNING:root:SKIPPED ncx2 distribution (taking more than 30 seconds)\n",
      "WARNING:root:SKIPPED recipinvgauss distribution (taking more than 30 seconds)\n",
      "WARNING:root:SKIPPED vonmises distribution (taking more than 30 seconds)\n",
      "WARNING:root:SKIPPED vonmises_line distribution (taking more than 30 seconds)\n"
     ]
    }
   ],
   "source": [
    "f = Fitter(df)\n",
    "f.fit()"
   ]
  },
  {
   "cell_type": "code",
   "execution_count": 20,
   "metadata": {},
   "outputs": [
    {
     "data": {
      "text/html": [
       "<div>\n",
       "<style scoped>\n",
       "    .dataframe tbody tr th:only-of-type {\n",
       "        vertical-align: middle;\n",
       "    }\n",
       "\n",
       "    .dataframe tbody tr th {\n",
       "        vertical-align: top;\n",
       "    }\n",
       "\n",
       "    .dataframe thead th {\n",
       "        text-align: right;\n",
       "    }\n",
       "</style>\n",
       "<table border=\"1\" class=\"dataframe\">\n",
       "  <thead>\n",
       "    <tr style=\"text-align: right;\">\n",
       "      <th></th>\n",
       "      <th>sumsquare_error</th>\n",
       "      <th>aic</th>\n",
       "      <th>bic</th>\n",
       "      <th>kl_div</th>\n",
       "      <th>ks_statistic</th>\n",
       "      <th>ks_pvalue</th>\n",
       "    </tr>\n",
       "  </thead>\n",
       "  <tbody>\n",
       "    <tr>\n",
       "      <th>powerlognorm</th>\n",
       "      <td>1.293603e-08</td>\n",
       "      <td>2773.575210</td>\n",
       "      <td>-2163.592005</td>\n",
       "      <td>inf</td>\n",
       "      <td>0.049866</td>\n",
       "      <td>0.961152</td>\n",
       "    </tr>\n",
       "    <tr>\n",
       "      <th>exponweib</th>\n",
       "      <td>1.320917e-08</td>\n",
       "      <td>2766.823685</td>\n",
       "      <td>-2161.586045</td>\n",
       "      <td>inf</td>\n",
       "      <td>0.050528</td>\n",
       "      <td>0.956632</td>\n",
       "    </tr>\n",
       "    <tr>\n",
       "      <th>genpareto</th>\n",
       "      <td>1.324450e-08</td>\n",
       "      <td>2771.265235</td>\n",
       "      <td>-2165.893991</td>\n",
       "      <td>inf</td>\n",
       "      <td>0.048613</td>\n",
       "      <td>0.968860</td>\n",
       "    </tr>\n",
       "    <tr>\n",
       "      <th>lomax</th>\n",
       "      <td>1.335057e-08</td>\n",
       "      <td>2770.057105</td>\n",
       "      <td>-2165.128198</td>\n",
       "      <td>inf</td>\n",
       "      <td>0.047501</td>\n",
       "      <td>0.974805</td>\n",
       "    </tr>\n",
       "    <tr>\n",
       "      <th>johnsonsb</th>\n",
       "      <td>1.359336e-08</td>\n",
       "      <td>2766.057875</td>\n",
       "      <td>-2158.833761</td>\n",
       "      <td>inf</td>\n",
       "      <td>0.048376</td>\n",
       "      <td>0.970194</td>\n",
       "    </tr>\n",
       "  </tbody>\n",
       "</table>\n",
       "</div>"
      ],
      "text/plain": [
       "              sumsquare_error          aic          bic  kl_div  ks_statistic  \\\n",
       "powerlognorm     1.293603e-08  2773.575210 -2163.592005     inf      0.049866   \n",
       "exponweib        1.320917e-08  2766.823685 -2161.586045     inf      0.050528   \n",
       "genpareto        1.324450e-08  2771.265235 -2165.893991     inf      0.048613   \n",
       "lomax            1.335057e-08  2770.057105 -2165.128198     inf      0.047501   \n",
       "johnsonsb        1.359336e-08  2766.057875 -2158.833761     inf      0.048376   \n",
       "\n",
       "              ks_pvalue  \n",
       "powerlognorm   0.961152  \n",
       "exponweib      0.956632  \n",
       "genpareto      0.968860  \n",
       "lomax          0.974805  \n",
       "johnsonsb      0.970194  "
      ]
     },
     "execution_count": 20,
     "metadata": {},
     "output_type": "execute_result"
    },
    {
     "data": {
      "image/png": "[encoded data removed]",
      "text/plain": [
       "<Figure size 432x288 with 1 Axes>"
      ]
     },
     "metadata": {
      "needs_background": "light"
     },
     "output_type": "display_data"
    }
   ],
   "source": [
    "f.summary()"
   ]
  },
  {
   "cell_type": "code",
   "execution_count": 21,
   "metadata": {},
   "outputs": [
    {
     "data": {
      "text/html": [
       "<div>\n",
       "<style scoped>\n",
       "    .dataframe tbody tr th:only-of-type {\n",
       "        vertical-align: middle;\n",
       "    }\n",
       "\n",
       "    .dataframe tbody tr th {\n",
       "        vertical-align: top;\n",
       "    }\n",
       "\n",
       "    .dataframe thead th {\n",
       "        text-align: right;\n",
       "    }\n",
       "</style>\n",
       "<table border=\"1\" class=\"dataframe\">\n",
       "  <thead>\n",
       "    <tr style=\"text-align: right;\">\n",
       "      <th></th>\n",
       "      <th>sumsquare_error</th>\n",
       "      <th>aic</th>\n",
       "      <th>bic</th>\n",
       "      <th>kl_div</th>\n",
       "      <th>ks_statistic</th>\n",
       "      <th>ks_pvalue</th>\n",
       "    </tr>\n",
       "  </thead>\n",
       "  <tbody>\n",
       "    <tr>\n",
       "      <th>expon</th>\n",
       "      <td>8.627424e-08</td>\n",
       "      <td>3575.446841</td>\n",
       "      <td>-1990.559271</td>\n",
       "      <td>inf</td>\n",
       "      <td>0.18499</td>\n",
       "      <td>0.002388</td>\n",
       "    </tr>\n",
       "  </tbody>\n",
       "</table>\n",
       "</div>"
      ],
      "text/plain": [
       "       sumsquare_error          aic          bic  kl_div  ks_statistic  \\\n",
       "expon     8.627424e-08  3575.446841 -1990.559271     inf       0.18499   \n",
       "\n",
       "       ks_pvalue  \n",
       "expon   0.002388  "
      ]
     },
     "execution_count": 21,
     "metadata": {},
     "output_type": "execute_result"
    },
    {
     "data": {
      "image/png": "[encoded data removed]",
      "text/plain": [
       "<Figure size 432x288 with 1 Axes>"
      ]
     },
     "metadata": {
      "needs_background": "light"
     },
     "output_type": "display_data"
    }
   ],
   "source": [
    "# Fitting with an exponential\n",
    "f = Fitter(df, distributions=[\"expon\"])\n",
    "f.fit()\n",
    "f.summary()"
   ]
  },
  {
   "cell_type": "code",
   "execution_count": 30,
   "metadata": {},
   "outputs": [],
   "source": [
    "y, x = np.histogram(df, bins=100, density=True)\n",
    "x = [(this + x[i + 1]) / 2.0 for i, this in enumerate(x[0:-1])]"
   ]
  },
  {
   "cell_type": "code",
   "execution_count": 32,
   "metadata": {},
   "outputs": [
    {
     "data": {
      "image/png": "[encoded data removed]",
      "text/plain": [
       "<Figure size 432x288 with 1 Axes>"
      ]
     },
     "metadata": {
      "needs_background": "light"
     },
     "output_type": "display_data"
    }
   ],
   "source": [
    "\n",
    "hist = pylab.hist(df, bins=100, density=True)\n",
    "\n",
    "params = st.expon.fit(df)\n",
    "\n",
    "fitted_pdf = st.expon.pdf(x, *params)"
   ]
  },
  {
   "cell_type": "markdown",
   "metadata": {},
   "source": [
    "### Evaluating the goodness of fit"
   ]
  },
  {
   "cell_type": "markdown",
   "metadata": {},
   "source": [
    "There are a few ways to evaluate goodness of fit. The fitter package provides:\n",
    "- SSE\n",
    "- AIC/BIC"
   ]
  },
  {
   "cell_type": "markdown",
   "metadata": {},
   "source": [
    "Sum of square errors is a measure of quadratic loss, and is a commonly used metric.\n",
    "\n",
    "$ SSE = \\Sigma (x_{pred} - x_{actual})^2$"
   ]
  },
  {
   "cell_type": "code",
   "execution_count": 35,
   "metadata": {},
   "outputs": [],
   "source": [
    "# L2 errors\n",
    "sq_error = pylab.sum((fitted_pdf - y) ** 2)"
   ]
  },
  {
   "cell_type": "markdown",
   "metadata": {},
   "source": [
    "Information criterion are basically penalized log likelihoods."
   ]
  },
  {
   "cell_type": "code",
   "execution_count": 37,
   "metadata": {},
   "outputs": [],
   "source": [
    "# calculate information criteria\n",
    "logLik = np.sum(st.expon.logpdf(x, *params))\n",
    "k = len(params)\n",
    "n = len(df)\n",
    "aic = 2 * k - 2 * logLik\n",
    "bic = n * np.log(sq_error / n) + k * np.log(n)"
   ]
  },
  {
   "cell_type": "code",
   "execution_count": 41,
   "metadata": {},
   "outputs": [],
   "source": [
    "# calculate kullback leibler divergence\n",
    "kullback_leibler = kl_div(fitted_pdf, y)\n",
    "\n",
    "# calculate goodness-of-fit statistic\n",
    "dist_fitted = st.expon(*params)\n",
    "ks_stat, ks_pval = kstest(df, dist_fitted.cdf)"
   ]
  },
  {
   "cell_type": "code",
   "execution_count": null,
   "metadata": {},
   "outputs": [],
   "source": []
  },
  {
   "cell_type": "code",
   "execution_count": 28,
   "metadata": {},
   "outputs": [],
   "source": [
    "log_likelihood = np.sum(np.log(st.norm.pdf(df, loc, scale)))"
   ]
  },
  {
   "cell_type": "code",
   "execution_count": 31,
   "metadata": {},
   "outputs": [
    {
     "data": {
      "text/plain": [
       "1971.346878750647"
      ]
     },
     "execution_count": 31,
     "metadata": {},
     "output_type": "execute_result"
    }
   ],
   "source": [
    "-2*log_likelihood + 2*2"
   ]
  },
  {
   "cell_type": "code",
   "execution_count": 32,
   "metadata": {},
   "outputs": [],
   "source": []
  },
  {
   "cell_type": "code",
   "execution_count": null,
   "metadata": {},
   "outputs": [],
   "source": []
  }
 ],
 "metadata": {
  "kernelspec": {
   "display_name": "Python 3.8.5 ('base')",
   "language": "python",
   "name": "python3"
  },
  "language_info": {
   "codemirror_mode": {
    "name": "ipython",
    "version": 3
   },
   "file_extension": ".py",
   "mimetype": "text/x-python",
   "name": "python",
   "nbconvert_exporter": "python",
   "pygments_lexer": "ipython3",
   "version": "3.8.5"
  },
  "orig_nbformat": 4,
  "vscode": {
   "interpreter": {
    "hash": "7f3e2235ce0c3d3b0e4a04e7f9c82d922b04c8831f13f1d259fbff6721a8fb0e"
   }
  }
 },
 "nbformat": 4,
 "nbformat_minor": 2
}
