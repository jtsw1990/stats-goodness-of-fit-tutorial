{
 "cells": [
  {
   "cell_type": "markdown",
   "metadata": {},
   "source": [
    "# Goodness of fit testing"
   ]
  },
  {
   "cell_type": "markdown",
   "metadata": {},
   "source": [
    "Goodness-of-fit testing is the exercise of trying to parameterize some observed phenomenon.\n",
    "\n",
    "The observed phenomenon usually comes in the form of raw data, and parameterization essentially means choosing a well understood probability distribution function (PDF) "
   ]
  }
 ],
 "metadata": {
  "language_info": {
   "name": "python"
  },
  "orig_nbformat": 4
 },
 "nbformat": 4,
 "nbformat_minor": 2
}
