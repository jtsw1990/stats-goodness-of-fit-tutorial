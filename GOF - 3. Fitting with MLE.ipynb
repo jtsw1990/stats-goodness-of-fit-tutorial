{
 "cells": [
  {
   "cell_type": "markdown",
   "metadata": {},
   "source": [
    "# 3.Fitting with MLE"
   ]
  },
  {
   "cell_type": "markdown",
   "metadata": {},
   "source": [
    "Maximum likelihood estimation is the more common approach for estimating the parameters of a distribution, and is usually the default setting in many libraries. The main idea behind the MLE algorithm is to calculate the parameters of the assumed distribution that are most likely given the observed data. This would require 2 important assumptions:\n",
    "\n",
    "- Underlying observations are identically distributed\n",
    "- Underlying observations are independent\n",
    "\n",
    "These 2 conditions are more commonly referred to as IID. With this assumption, the probability of observing a dataset can be represented as:\n",
    "\n",
    "$ f_{x}(X | \\theta_{1}...\\theta{i}) = f_{x}(x_{1}) * f_{x}(x_{2})... *f_{x}(x_{n}) = \\prod f_{x}(x_{i}) $\n",
    "\n",
    "We can restate this equation to become a likelihood function that is dependent on theta. Taking the log of the equation will not change the maxima of the likelihood function, but make calculations friendlier.\n",
    "\n",
    "$ LL(\\theta) = log \\prod f_{x}(x_{i} | \\theta ) = \\Sigma log f_{x}(x_{i} | \\theta)$\n",
    "\n",
    "The log likelihood is a function that represents the probability of the observed dataset occurring and we are trying to find a value of $\\theta$ that maximizes this. We can ue the first order condition to find the maxima of a function:\n",
    "\n",
    "$ \\dfrac{\\partial}{\\partial \\theta} LL(\\theta) = \\dfrac{\\partial}{\\partial \\theta} \\Sigma log f_{x}(x_{i} | \\theta) = 0 $\n",
    "\n",
    "Then depending on the number of $\\theta$ parameters of the assumed distribution, we'd need to solve the system of equations to get our MLE estimates.\n",
    "\n"
   ]
  }
 ],
 "metadata": {
  "kernelspec": {
   "display_name": "Python 3.7.8 64-bit",
   "language": "python",
   "name": "python3"
  },
  "language_info": {
   "name": "python",
   "version": "3.7.8"
  },
  "orig_nbformat": 4,
  "vscode": {
   "interpreter": {
    "hash": "0a54084e6b208ee8d1ce3989ffc20924477a5f55f5a43e22e699a6741623861e"
   }
  }
 },
 "nbformat": 4,
 "nbformat_minor": 2
}
