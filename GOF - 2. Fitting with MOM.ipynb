{
 "cells": [
  {
   "cell_type": "code",
   "execution_count": 21,
   "metadata": {},
   "outputs": [],
   "source": [
    "import pandas as pd\n",
    "import numpy as np\n",
    "import matplotlib.pyplot as plt\n",
    "from statsmodels.sandbox.regression import gmm\n",
    "\n",
    "plt.style.use('ggplot')"
   ]
  },
  {
   "cell_type": "markdown",
   "metadata": {},
   "source": [
    "# 2. Method of Moments"
   ]
  },
  {
   "cell_type": "markdown",
   "metadata": {},
   "source": [
    "The MOM is based on the law of large numbers, and implies that the sample mean will converge to the distributional mean as the number of observations increase.\n",
    "\n",
    "Given this assumption, we can match the actual observed moments in the data and calculate the theoretical parameters of the distributions by solving a system of equations. Of course, this also means that there must be at least as many moments in the data as there are parameters in the selected distribution.\n",
    "\n",
    "The steps involved in fitting are:\n",
    "- Choosing a well defined distribution function\n",
    "- Calculate the moments in the data\n",
    "- Set up a system of equations from calculated moments and PDFs\n",
    "- Solve for parameters of the PDF\n",
    "\n",
    "\n",
    "$ E_{f}[X] =  \\dfrac{1}{n} \\Sigma x_i $\n",
    "\n",
    "$ E_{f}[X^k] = \\dfrac{1}{n} \\Sigma x_{i}^k $\n",
    "\n",
    "$ VAR_{f}(X) = E_{f}[X^2] - E_{f}[X]^2 $"
   ]
  },
  {
   "cell_type": "code",
   "execution_count": 3,
   "metadata": {},
   "outputs": [],
   "source": [
    "df = pd.read_csv('data/sample_claims.csv')"
   ]
  },
  {
   "cell_type": "markdown",
   "metadata": {},
   "source": [
    "For example, if we choose to model our dataset with an exponential distribution, which has the pdf:\n",
    "\n",
    "$ f_x(\\lambda) = \\lambda e^{-\\lambda x} $\n",
    "\n",
    "Then the first 2 moments of an exponential distribution are:\n",
    "\n",
    "$ E_{f}[X] = \\dfrac{1}{\\lambda} $\n",
    "\n",
    "$ E_{f}[X^2] = \\dfrac{2}{\\lambda^2} $\n",
    "\n",
    "$ VAR_{f}(X) = E_{f}[X^2] - E_{f}[X]^2 = \\dfrac{1}{\\lambda^2} $\n",
    "\n",
    "The equations above can be derived either by using the moment generating function (MGF) or by simply evaluating the integral:\n",
    "\n",
    "$ E_{f}[X^k] = \\int_{0}^{\\inf} x^{k} \\lambda e^{-\\lambda x} dx $\n",
    "\n",
    "Using method of moments, we get:\n",
    "\n",
    "$ \\lambda = \\dfrac{1}{\\bar x} $"
   ]
  },
  {
   "cell_type": "code",
   "execution_count": 15,
   "metadata": {},
   "outputs": [
    {
     "name": "stdout",
     "output_type": "stream",
     "text": [
      "claims    0.000334\n",
      "dtype: float64\n"
     ]
    }
   ],
   "source": [
    "df_mean = df.mean()\n",
    "\n",
    "exp_lambda = 1 / df_mean\n",
    "\n",
    "print(exp_lambda)"
   ]
  },
  {
   "cell_type": "markdown",
   "metadata": {},
   "source": [
    "This model assumes that the data follows $ EXPO(\\lambda = 0.000334) $"
   ]
  }
 ],
 "metadata": {
  "kernelspec": {
   "display_name": "Python 3.8.5 ('base')",
   "language": "python",
   "name": "python3"
  },
  "language_info": {
   "codemirror_mode": {
    "name": "ipython",
    "version": 3
   },
   "file_extension": ".py",
   "mimetype": "text/x-python",
   "name": "python",
   "nbconvert_exporter": "python",
   "pygments_lexer": "ipython3",
   "version": "3.8.5"
  },
  "orig_nbformat": 4,
  "vscode": {
   "interpreter": {
    "hash": "7f3e2235ce0c3d3b0e4a04e7f9c82d922b04c8831f13f1d259fbff6721a8fb0e"
   }
  }
 },
 "nbformat": 4,
 "nbformat_minor": 2
}
