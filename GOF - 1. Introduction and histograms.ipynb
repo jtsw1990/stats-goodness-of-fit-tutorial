{
 "cells": [
  {
   "cell_type": "code",
   "execution_count": 1,
   "metadata": {},
   "outputs": [],
   "source": [
    "import pandas as pd\n",
    "import numpy as np\n",
    "import matplotlib.pyplot as plt\n",
    "\n",
    "plt.style.use('ggplot')"
   ]
  },
  {
   "cell_type": "markdown",
   "metadata": {},
   "source": [
    "# 1. Introduction\n",
    "\n",
    "#### Prerequisite knowledge\n",
    "This walk through assumes that the reader has a basic understanding of:\n",
    "- probability distribution functions\n",
    "- basic differential calculus\n",
    "- basic familiarity with statistical moments"
   ]
  },
  {
   "cell_type": "markdown",
   "metadata": {},
   "source": [
    "### What is goodness of fit testing?"
   ]
  },
  {
   "cell_type": "markdown",
   "metadata": {},
   "source": [
    "Goodness-of-fit testing is the exercise of trying to describe how well a statistical model parametrizes some observed phenomenon.\n",
    "\n",
    "- The observed phenomenon usually comes in the form of raw data\n",
    "- Parameterization essentially means selecting a well understood probability distribution function (PDF) to represent the data."
   ]
  },
  {
   "cell_type": "markdown",
   "metadata": {},
   "source": [
    "### Why do we do goodness of fit testing?"
   ]
  },
  {
   "cell_type": "markdown",
   "metadata": {},
   "source": [
    "Using a well understood smooth PDF as an assumption/model to represent a real world phenomenon comes with many benefits.\n",
    "- Provides the user with a clear set of underlying assumptions\n",
    "- Unlocks powerful statements on probability of certain events occurring\n",
    "- Provides user with a set of statistical metrics to compare the fit of different PDFs"
   ]
  },
  {
   "cell_type": "markdown",
   "metadata": {},
   "source": [
    "### Working example: Insurance claim amounts"
   ]
  },
  {
   "cell_type": "markdown",
   "metadata": {},
   "source": [
    "We can explore fitting a parametric model over some raw observed phenomenon through the use of an example dataset that shows the claim amounts of 96 lodged claims.\n",
    "\n",
    "We can first read in the data and plot a histogram of the observations."
   ]
  },
  {
   "cell_type": "code",
   "execution_count": 2,
   "metadata": {},
   "outputs": [
    {
     "data": {
      "text/html": [
       "<div>\n",
       "<style scoped>\n",
       "    .dataframe tbody tr th:only-of-type {\n",
       "        vertical-align: middle;\n",
       "    }\n",
       "\n",
       "    .dataframe tbody tr th {\n",
       "        vertical-align: top;\n",
       "    }\n",
       "\n",
       "    .dataframe thead th {\n",
       "        text-align: right;\n",
       "    }\n",
       "</style>\n",
       "<table border=\"1\" class=\"dataframe\">\n",
       "  <thead>\n",
       "    <tr style=\"text-align: right;\">\n",
       "      <th></th>\n",
       "      <th>claims</th>\n",
       "    </tr>\n",
       "  </thead>\n",
       "  <tbody>\n",
       "    <tr>\n",
       "      <th>0</th>\n",
       "      <td>24</td>\n",
       "    </tr>\n",
       "    <tr>\n",
       "      <th>1</th>\n",
       "      <td>26</td>\n",
       "    </tr>\n",
       "    <tr>\n",
       "      <th>2</th>\n",
       "      <td>73</td>\n",
       "    </tr>\n",
       "    <tr>\n",
       "      <th>3</th>\n",
       "      <td>84</td>\n",
       "    </tr>\n",
       "    <tr>\n",
       "      <th>4</th>\n",
       "      <td>102</td>\n",
       "    </tr>\n",
       "  </tbody>\n",
       "</table>\n",
       "</div>"
      ],
      "text/plain": [
       "   claims\n",
       "0      24\n",
       "1      26\n",
       "2      73\n",
       "3      84\n",
       "4     102"
      ]
     },
     "execution_count": 2,
     "metadata": {},
     "output_type": "execute_result"
    }
   ],
   "source": [
    "df = pd.read_csv('data/sample_claims.csv')\n",
    "df.head()"
   ]
  },
  {
   "cell_type": "code",
   "execution_count": 4,
   "metadata": {},
   "outputs": [
    {
     "data": {
      "image/png": "[encoded data removed]",
      "text/plain": [
       "<Figure size 432x288 with 3 Axes>"
      ]
     },
     "metadata": {},
     "output_type": "display_data"
    }
   ],
   "source": [
    "bins_1 = [0, 1000, 2000, 3000, 4000, 5000, 6000, 7000, 8000, 9000, 9999]\n",
    "bins_2 = [0, 100, 200, 300, 400, 500, 600, 700, 800, 900, 999]\n",
    "bins_3 = 2\n",
    "\n",
    "for idx, bin_range in enumerate([bins_1, bins_2, bins_3]):\n",
    "    plt.subplot(1, 3, idx + 1)\n",
    "    plt.hist(x=df, bins=bin_range)"
   ]
  },
  {
   "cell_type": "markdown",
   "metadata": {},
   "source": [
    "Note that at this step we've already started to make some implicit assumptions about the distribution of the data through the selection of bins or bar widths.\n",
    "We can see the differences in the shape of the histograms when using a bin size of 100 compared to 1000, and the case with just 2 bins.\n",
    "\n",
    "One important property that all 3 results have in common is the **equal bin sizes**, which is always recommended (unless you really know what you're doing) as it reduces the risk of implying any bias in the models downstream, assuming that the numerical data has been scaled properly i.e 2 is 1 greater than 1 and 3 is 2 greater than 1. For this example we're dealing with $ amounts and this is the case.\n",
    "\n",
    "The ultimate goal of a histogram is to provide the user with useful information on how the data is spread out and to that end, selection of bin sizes based on the domain characteristics are always preferred, for example:\n",
    "- Binning exam scores based on the system's grade banding\n",
    "- Binning insurance claim amounts based on company defined thresholds\n",
    "- Binning ages based on the system's current rating structure\n",
    "\n",
    "With that in mind, there are a few rules of thumb that modern day statistical and visualization packages tend to use for calculating an optimal bin size, and as a result number of bins:\n",
    "\n",
    "| rule | formula | comments |\n",
    "| ----------- | ----------- | ----------- |\n",
    "| auto | max of sturges and fd estimators | default configuration for matplotlib and numpy |\n",
    "| sturges | $ bin number = 1 + 3.322 log_{N} $ | R's default algorithm, assumes that data is inherently normal and symmetrical |\n",
    "| freedman-diaconis | $ bin size = 2\\dfrac{IQR(x)}{\\sqrt[3] N} $ | designed to minimize differences between empirical and theoretical distributions detailed implementation [here](http://www.jtrive.com/determining-histogram-bin-width-using-the-freedman-diaconis-rule.html) |\n",
    "| square root | $bin number = \\sqrt{n} $ | Excel's default algorithm, simple and fast |"
   ]
  }
 ],
 "metadata": {
  "kernelspec": {
   "display_name": "Python 3.8.5 ('base')",
   "language": "python",
   "name": "python3"
  },
  "language_info": {
   "codemirror_mode": {
    "name": "ipython",
    "version": 3
   },
   "file_extension": ".py",
   "mimetype": "text/x-python",
   "name": "python",
   "nbconvert_exporter": "python",
   "pygments_lexer": "ipython3",
   "version": "3.8.5"
  },
  "orig_nbformat": 4,
  "vscode": {
   "interpreter": {
    "hash": "7f3e2235ce0c3d3b0e4a04e7f9c82d922b04c8831f13f1d259fbff6721a8fb0e"
   }
  }
 },
 "nbformat": 4,
 "nbformat_minor": 2
}
